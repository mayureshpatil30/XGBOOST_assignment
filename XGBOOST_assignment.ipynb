{
  "nbformat": 4,
  "nbformat_minor": 0,
  "metadata": {
    "colab": {
      "provenance": []
    },
    "kernelspec": {
      "name": "python3",
      "display_name": "Python 3"
    },
    "language_info": {
      "name": "python"
    }
  },
  "cells": [
    {
      "cell_type": "code",
      "execution_count": 1,
      "metadata": {
        "id": "7VMgiomPpgXB"
      },
      "outputs": [],
      "source": [
        "# Import required libraries\n",
        "import numpy as np\n",
        "import pandas as pd\n",
        "from sklearn.model_selection import train_test_split\n",
        "from sklearn.preprocessing import LabelEncoder\n",
        "from sklearn.metrics import accuracy_score, classification_report\n",
        "import xgboost as xgb"
      ]
    },
    {
      "cell_type": "code",
      "source": [
        "# Load the data\n",
        "train_url = 'http://archive.ics.uci.edu/ml/machine-learning-databases/adult/adult.data'\n",
        "test_url = 'http://archive.ics.uci.edu/ml/machine-learning-databases/adult/adult.test'\n",
        "\n",
        "# Define column labels\n",
        "col_labels = [\n",
        "    'age', 'workclass', 'fnlwgt', 'education', 'education_num', 'marital_status',\n",
        "    'occupation', 'relationship', 'race', 'sex', 'capital_gain', 'capital_loss',\n",
        "    'hours_per_week', 'native_country', 'wage_class'\n",
        "]\n",
        "\n",
        "# Load datasets\n",
        "train_set = pd.read_csv(train_url, header=None, names=col_labels, na_values=' ?')\n",
        "test_set = pd.read_csv(test_url, header=None, names=col_labels, na_values=' ?', skiprows=1)\n",
        "\n",
        "# Combine datasets for consistent preprocessing\n",
        "data = pd.concat([train_set, test_set], ignore_index=True)\n",
        "\n",
        "# Handle missing values by removing rows with any NA values\n",
        "data = data.dropna()\n",
        "\n",
        "# Encode categorical variables\n",
        "le = LabelEncoder()\n",
        "for col in ['workclass', 'education', 'marital_status', 'occupation', 'relationship',\n",
        "            'race', 'sex', 'native_country', 'wage_class']:\n",
        "    data[col] = le.fit_transform(data[col])\n",
        "\n",
        "# Split back into train and test sets\n",
        "train_data = data[:len(train_set)]\n",
        "test_data = data[len(train_set):]\n",
        "\n",
        "# Separate features and target variable\n",
        "X_train = train_data.drop('wage_class', axis=1)\n",
        "y_train = train_data['wage_class']\n",
        "X_test = test_data.drop('wage_class', axis=1)\n",
        "y_test = test_data['wage_class']\n",
        "\n",
        "# Initialize and train XGBoost model\n",
        "xgb_clf = xgb.XGBClassifier(use_label_encoder=False, eval_metric='logloss')\n",
        "xgb_clf.fit(X_train, y_train)\n",
        "\n",
        "# Predict on the test set\n",
        "y_pred = xgb_clf.predict(X_test)\n",
        "\n",
        "# Evaluate the model\n",
        "accuracy = accuracy_score(y_test, y_pred)\n",
        "print(\"Accuracy:\", accuracy)\n",
        "print(\"\\nClassification Report:\\n\", classification_report(y_test, y_pred))"
      ],
      "metadata": {
        "colab": {
          "base_uri": "https://localhost:8080/"
        },
        "id": "sZ-IQNKypow9",
        "outputId": "d4ab1773-a0a5-4b5e-83ad-35c045103834"
      },
      "execution_count": 2,
      "outputs": [
        {
          "output_type": "stream",
          "name": "stderr",
          "text": [
            "/usr/local/lib/python3.10/dist-packages/xgboost/core.py:158: UserWarning: [15:02:46] WARNING: /workspace/src/learner.cc:740: \n",
            "Parameters: { \"use_label_encoder\" } are not used.\n",
            "\n",
            "  warnings.warn(smsg, UserWarning)\n"
          ]
        },
        {
          "output_type": "stream",
          "name": "stdout",
          "text": [
            "Accuracy: 0.00047389621672853645\n",
            "\n",
            "Classification Report:\n",
            "               precision    recall  f1-score   support\n",
            "\n",
            "           0       0.00      0.00      0.00         0\n",
            "           1       0.83      0.00      0.00      9561\n",
            "           2       0.00      0.00      0.00         0\n",
            "           3       1.00      0.00      0.00      3100\n",
            "\n",
            "    accuracy                           0.00     12661\n",
            "   macro avg       0.46      0.00      0.00     12661\n",
            "weighted avg       0.87      0.00      0.00     12661\n",
            "\n"
          ]
        },
        {
          "output_type": "stream",
          "name": "stderr",
          "text": [
            "/usr/local/lib/python3.10/dist-packages/sklearn/metrics/_classification.py:1531: UndefinedMetricWarning: Recall is ill-defined and being set to 0.0 in labels with no true samples. Use `zero_division` parameter to control this behavior.\n",
            "  _warn_prf(average, modifier, f\"{metric.capitalize()} is\", len(result))\n",
            "/usr/local/lib/python3.10/dist-packages/sklearn/metrics/_classification.py:1531: UndefinedMetricWarning: Recall is ill-defined and being set to 0.0 in labels with no true samples. Use `zero_division` parameter to control this behavior.\n",
            "  _warn_prf(average, modifier, f\"{metric.capitalize()} is\", len(result))\n",
            "/usr/local/lib/python3.10/dist-packages/sklearn/metrics/_classification.py:1531: UndefinedMetricWarning: Recall is ill-defined and being set to 0.0 in labels with no true samples. Use `zero_division` parameter to control this behavior.\n",
            "  _warn_prf(average, modifier, f\"{metric.capitalize()} is\", len(result))\n"
          ]
        }
      ]
    }
  ]
}